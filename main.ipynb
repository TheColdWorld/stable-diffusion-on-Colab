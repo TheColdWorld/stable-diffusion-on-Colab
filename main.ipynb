{
  "nbformat": 4,
  "nbformat_minor": 0,
  "metadata": {
    "colab": {
      "provenance": [],
      "history_visible": true
    },
    "kernelspec": {
      "name": "python3",
      "display_name": "Python 3"
    },
    "language_info": {
      "name": "python"
    },
    "accelerator": "GPU",
    "gpuClass": "standard"
  },
  "cells": [
    {
      "cell_type": "code",
      "execution_count": null,
      "metadata": {
        "id": "DJ7Ttz31Ptl3",
        "cellView": "form"
      },
      "outputs": [],
      "source": [
        "#@title 加载Google云端硬盘(可选)\n",
        "\n",
        "\n",
        "from google.colab import drive\n",
        "drive.mount('/content/drive')"
      ]
    },
    {
      "cell_type": "code",
      "execution_count": null,
      "metadata": {
        "id": "sBbcB4vwj_jm",
        "cellView": "form"
      },
      "outputs": [],
      "source": [
        "#@title  克隆git仓库(必选)\n",
        "%cd /content\n",
        "!git clone https://github.com/AUTOMATIC1111/stable-diffusion-webui.git\n",
        "%cd stable-diffusion-webui"
      ]
    },
    {
      "cell_type": "code",
      "source": [
        "#@title  下载模型和vae | AbyssOrangeMix2\n",
        "# 创建Stable-diffusion文件夹\n",
        "!mkdir -p /content/stable-diffusion-webui/models/Stable-diffusion\n",
        "%cd /content/stable-diffusion-webui/models/Stable-diffusion\n",
        "#safetensors文件\n",
        "!wget  \"https://huggingface.co/WarriorMama777/OrangeMixs/resolve/main/Models/AbyssOrangeMix2/AbyssOrangeMix2_sfw.safetensors\" -O AbyssOrangeMix2_sfw.safetensors\n",
        "#vae文件\n",
        "!wget  \"https://huggingface.co/WarriorMama777/OrangeMixs/resolve/main/VAEs/orangemix.vae.pt\" -O AbyssOrangeMix2_sfw.vae.pt"
      ],
      "metadata": {
        "id": "Yuue2qnla3hW",
        "cellView": "form"
      },
      "execution_count": null,
      "outputs": []
    },
    {
      "cell_type": "code",
      "source": [
        "#@title  下载模型 | stable-diffusion-2.1\n",
        "# 创建Stable-diffusion文件夹\n",
        "!mkdir -p /content/stable-diffusion-webui/models/Stable-diffusion\n",
        "%cd /content/stable-diffusion-webui/models/Stable-diffusion\n",
        "!wget \"https://huggingface.co/stabilityai/stable-diffusion-2-1/resolve/main/v2-1_768-nonema-pruned.ckpt\" -O v2-1_768-nonema-pruned.ckpt #ckpt文件\n",
        "#!wget \"https://huggingface.co/stabilityai/stable-diffusion-2-1/resolve/main/v2-1_768-nonema-pruned.safetensors\" -O v2-1_768-nonema-pruned.safetensors #safetensors文件"
      ],
      "metadata": {
        "cellView": "form",
        "id": "twdOQEj5C7AY"
      },
      "execution_count": null,
      "outputs": []
    },
    {
      "cell_type": "code",
      "source": [
        "#@title  下载模型和vae | anything-v4.0\n",
        "# 创建Stable-diffusion文件夹\n",
        "!mkdir /content/stable-diffusion-webui/models/Stable-diffusion\n",
        "%cd /content/stable-diffusion-webui/models/Stable-diffusion\n",
        "!wget \"https://huggingface.co/andite/anything-v4.0/resolve/main/anything-v4.0-pruned.ckpt\"  -O anything-v4.0-pruned.ckpt #ckpt文件\n",
        "#!wget \"https://huggingface.co/andite/anything-v4.0/resolve/main/anything-v4.0-pruned.safetensors\"  -O anything-v4.0-pruned.safetensors #safetensors文件\n",
        "!wget \"https://huggingface.co/andite/anything-v4.0/resolve/main/anything-v4.0.vae.pt\" -O anything-v4.0.vae.pt #vae文件"
      ],
      "metadata": {
        "cellView": "form",
        "id": "qDzIrwIwEvGd"
      },
      "execution_count": null,
      "outputs": []
    },
    {
      "cell_type": "code",
      "source": [
        "#@title  下载模型和vae | anything-v4.5\n",
        "# 创建Stable-diffusion文件夹\n",
        "!mkdir /content/stable-diffusion-webui/models/Stable-diffusion\n",
        "%cd /content/stable-diffusion-webui/models/Stable-diffusion\n",
        "!wget \"https://huggingface.co/andite/anything-v4.0/resolve/main/anything-v4.5-pruned.ckpt\"  -O anything-v4.5-pruned.ckpt #ckpt文件\n",
        "#!wget \"https://huggingface.co/andite/anything-v4.0/resolve/main/anything-v4.5-pruned.safetensors\"  -O anything-v4.5-pruned.safetensors #safetensors文件\n",
        "!wget \"https://huggingface.co/andite/anything-v4.0/resolve/main/anything-v4.0.vae.pt\" -O anything-v4.5.vae.pt #vae文件"
      ],
      "metadata": {
        "id": "ET_A76MeGC4d"
      },
      "execution_count": null,
      "outputs": []
    },
    {
      "cell_type": "code",
      "source": [
        "#@title  下载模型和vae | anything-v3.0\n",
        "# 创建Stable-diffusion文件夹\n",
        "!mkdir /content/stable-diffusion-webui/models/Stable-diffusion\n",
        "%cd /content/stable-diffusion-webui/models/Stable-diffusion\n",
        "!wget \"https://huggingface.co/Linaqruf/anything-v3.0/resolve/main/anything-v3-fp32-pruned.safetensors\"  -O anything-v3-fp32-pruned.safetensors #fp32裁剪\n",
        "!wget \"https://huggingface.co/Linaqruf/anything-v3.0/resolve/main/anything-v3-fp16-pruned.safetensors\" -O anything-v3-fp16-pruned.safetensors #fp16裁剪"
      ],
      "metadata": {
        "id": "11Z5TFCJG4eY"
      },
      "execution_count": null,
      "outputs": []
    },
    {
      "cell_type": "markdown",
      "source": [],
      "metadata": {
        "id": "m7Mob8q-dEMc"
      }
    },
    {
      "cell_type": "code",
      "source": [
        "#@title  下载模型和vae | anything-v3.1 和anything-v3.2\n",
        "# 创建Stable-diffusion文件夹\n",
        "!mkdir /content/stable-diffusion-webui/models/Stable-diffusion\n",
        "%cd /content/stable-diffusion-webui/models/Stable-diffusion\n",
        "!wget \"https://huggingface.co/cag/anything-v3-1/resolve/main/anything-v3-1.safetensors\"  -O anything-v3-1.safetensors #3.1\n",
        "!wget \"https://huggingface.co/cag/anything-v3-1/resolve/main/anything-v3-2.safetensors\" -O anything-v3-2.safetensors #3"
      ],
      "metadata": {
        "id": "28P39eGXGe30"
      },
      "execution_count": null,
      "outputs": []
    },
    {
      "cell_type": "code",
      "source": [
        "#@title  下载模型和vae | 自行下载\n",
        "# 创建Stable-diffusion文件夹\n",
        "!mkdir /content/stable-diffusion-webui/models/Stable-diffusion\n",
        "%cd /content/stable-diffusion-webui/models/Stable-diffusion\n",
        "!wget \"\"  -O \n",
        "!wget \"\" -O "
      ],
      "metadata": {
        "id": "nSVklgXCHUYv"
      },
      "execution_count": null,
      "outputs": []
    },
    {
      "cell_type": "code",
      "source": [
        "#@title 启动【在此可以添加命令行参数】【详细解释见代码内注释】\n",
        "#  --share          - 创建一个在线的 gradio.live 链接（其实您在自己电脑的本地运行的程序上也可以添加本参数，不过对于运行程序的本机而言，127.0.0.1:7860也能达到一样的效果。）\n",
        "#  --gradio-debug       - 打印输出到控制台\n",
        "#  --gradio-auth 2333:6666  - 创建用户，账号为2333，密码为6666，可以自行修改，用作登陆账号密码\n",
        "#  --deepdanbooru       - 开启deepdanbooru功能，在\"图生图\"处增加\"反向分析输入图片tags\"的功能（需要另行安装，这会占用一些启动时间）\n",
        "#  --xformers         - 开启xformers优化，开启前请确保您已顺利运行了xformers安装代码（需要一定的等待时间）\n",
        "#  --（其他）         -有些scripts需要你添加他们自带的启动参数，也在这加\n",
        "\n",
        "\n",
        "\n",
        "# 将命令生效目录改回到程序源目录下，然后启动目录下的 lauch.py 文件（附带参数项）\n",
        "\n",
        "%cd /content/stable-diffusion-webui\n",
        "\n",
        "!COMMANDLINE_ARGS=\" --share --gradio-auth  2333:6666 --disable-safe-unpickle --no-half-vae --deepdanbooru\" REQS_FILE=\"requirements.txt\" python launch.py"
      ],
      "metadata": {
        "id": "hEg5r0GFHrdg"
      },
      "execution_count": null,
      "outputs": []
    }
  ]
}